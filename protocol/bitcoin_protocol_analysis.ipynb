{
 "cells": [
  {
   "cell_type": "markdown",
   "source": [
    "# Block Data Collection"
   ],
   "metadata": {
    "collapsed": false
   }
  },
  {
   "cell_type": "code",
   "execution_count": 40,
   "outputs": [
    {
     "name": "stdout",
     "output_type": "stream",
     "text": [
      "20220901\n",
      "20220902\n",
      "20220903\n",
      "20220904\n",
      "20220905\n",
      "20220906\n",
      "20220907\n",
      "20220908\n",
      "20220909\n",
      "20220910\n",
      "20220911\n",
      "20220912\n",
      "20220913\n",
      "20220914\n",
      "20220915\n",
      "20220916\n",
      "20220917\n",
      "20220918\n",
      "20220919\n",
      "20220920\n",
      "20220921\n",
      "20220922\n",
      "20220923\n",
      "20220924\n",
      "20220925\n",
      "20220926\n",
      "20220927\n",
      "20220928\n",
      "20220929\n",
      "20220930\n",
      "20221001\n",
      "20221002\n",
      "20221003\n",
      "20221004\n",
      "20221005\n",
      "20221006\n",
      "20221007\n",
      "20221008\n",
      "20221009\n",
      "20221010\n",
      "20221011\n",
      "20221012\n",
      "20221013\n",
      "20221014\n",
      "20221015\n",
      "20221016\n",
      "20221017\n",
      "20221018\n",
      "20221019\n",
      "20221020\n",
      "20221021\n",
      "20221022\n",
      "20221023\n",
      "20221024\n",
      "20221025\n",
      "20221026\n",
      "20221027\n",
      "20221028\n",
      "20221029\n",
      "20221030\n",
      "20221031\n",
      "20221101\n",
      "20221102\n",
      "20221103\n",
      "20221104\n",
      "20221105\n",
      "20221106\n",
      "20221107\n",
      "20221108\n",
      "20221109\n",
      "20221110\n",
      "20221111\n",
      "20221112\n",
      "20221113\n",
      "20221114\n",
      "20221115\n",
      "20221116\n",
      "20221117\n",
      "20221118\n",
      "20221119\n",
      "20221120\n",
      "20221121\n",
      "20221122\n",
      "20221123\n",
      "20221124\n",
      "20221125\n",
      "20221126\n",
      "20221127\n",
      "20221128\n",
      "20221129\n",
      "20221130\n",
      "20221201\n",
      "20221202\n",
      "20221203\n",
      "20221204\n",
      "20221205\n",
      "20221206\n",
      "20221207\n",
      "20221208\n",
      "20221209\n",
      "20221210\n",
      "20221211\n",
      "20221212\n",
      "20221213\n",
      "20221214\n",
      "20221215\n",
      "20221216\n",
      "20221217\n",
      "20221218\n",
      "20221219\n",
      "20221220\n",
      "20221221\n",
      "20221222\n",
      "20221223\n",
      "20221224\n",
      "20221225\n",
      "20221226\n",
      "20221227\n",
      "20221228\n",
      "20221229\n",
      "20221230\n",
      "20221231\n",
      "Time taken: 148.68 seconds\n"
     ]
    }
   ],
   "source": [
    "import time\n",
    "import urllib.request\n",
    "import gzip\n",
    "\n",
    "import numpy as np\n",
    "import pandas as pd\n",
    "\n",
    "start_date = pd.Timestamp(\"2022-09-01\")\n",
    "end_date = pd.Timestamp(\"2022-12-31\")\n",
    "blocks = []\n",
    "\n",
    "start_time = time.time()\n",
    "for date in pd.date_range(start_date, end_date):\n",
    "    url = f\"https://gz.blockchair.com/bitcoin/blocks/blockchair_bitcoin_blocks_{date.strftime('%Y%m%d')}.tsv.gz\"\n",
    "    print(date.strftime('%Y%m%d'))\n",
    "\n",
    "    with urllib.request.urlopen(url) as response:\n",
    "        with gzip.GzipFile(fileobj=response) as uncompressed:\n",
    "            df = pd.read_csv(uncompressed, delimiter='\\t')\n",
    "    blocks.append(df)\n",
    "\n",
    "blocks_df = pd.concat(blocks)\n",
    "end_time = time.time()\n",
    "\n",
    "print(f\"Time taken: {end_time - start_time:.2f} seconds\")"
   ],
   "metadata": {
    "collapsed": false
   }
  },
  {
   "cell_type": "code",
   "execution_count": 41,
   "outputs": [
    {
     "data": {
      "text/plain": "       id                                               hash  \\\n0  752076  000000000000000000080c5d32b46eb0f76b3d73f2e226...   \n1  752077  0000000000000000000173411bffe1ac604a132ed1e105...   \n2  752078  000000000000000000055a7e7b72fc0c36ce8efe8a5b19...   \n3  752079  000000000000000000077cc94bc7f55ddc7ede0c4dc752...   \n4  752080  00000000000000000008f5ce64c347e18f321a30dc9a52...   \n\n                  time          median_time     size  stripped_size   weight  \\\n0  2022-09-01 00:00:31  2022-08-31 23:18:40  1553233         813251  3992986   \n1  2022-09-01 00:04:05  2022-08-31 23:33:18  1085256         969318  3993210   \n2  2022-09-01 00:09:10  2022-08-31 23:36:53  1366347         875553  3993006   \n3  2022-09-01 00:34:21  2022-08-31 23:43:06  1446047         849009  3993074   \n4  2022-09-01 00:36:21  2022-08-31 23:47:49  1720548         757428  3992832   \n\n      version version_hex                    version_bits  ... fee_per_kb  \\\n0  1073676288    3fff0000  111111111111110000000000000000  ...   9623.808   \n1   545259520    20800000  100000100000000000000000000000  ...  13023.431   \n2  1073676288    3fff0000  111111111111110000000000000000  ...  11504.734   \n3  1073676288    3fff0000  111111111111110000000000000000  ...  20450.810   \n4   611926016    24794000  100100011110010100000000000000  ...   1680.234   \n\n   fee_per_kb_usd  fee_per_kwu  fee_per_kwu_usd     cdd_total generation  \\\n0          1.9270   3743.86910           0.7497  10909.170413  625000000   \n1          2.6076   3539.47240           0.7086    308.317894  625000000   \n2          2.3036   3936.96040           0.7883   9286.351203  625000000   \n3          4.0949   7406.52100           1.4831  59183.394320  625000000   \n4          0.3364    724.09705           0.1450   2679.396640  625000000   \n\n   generation_usd     reward   reward_usd     guessed_miner  \n0       125143.75  639945129  128136.2109  Foundry USA Pool  \n1       125143.75  639128208  127972.6406           Unknown  \n2       125143.75  640716008  128290.5625  Foundry USA Pool  \n3       125143.75  654566699  131063.8906  Foundry USA Pool  \n4       125143.75  627890436  125722.5000           Unknown  \n\n[5 rows x 36 columns]",
      "text/html": "<div>\n<style scoped>\n    .dataframe tbody tr th:only-of-type {\n        vertical-align: middle;\n    }\n\n    .dataframe tbody tr th {\n        vertical-align: top;\n    }\n\n    .dataframe thead th {\n        text-align: right;\n    }\n</style>\n<table border=\"1\" class=\"dataframe\">\n  <thead>\n    <tr style=\"text-align: right;\">\n      <th></th>\n      <th>id</th>\n      <th>hash</th>\n      <th>time</th>\n      <th>median_time</th>\n      <th>size</th>\n      <th>stripped_size</th>\n      <th>weight</th>\n      <th>version</th>\n      <th>version_hex</th>\n      <th>version_bits</th>\n      <th>...</th>\n      <th>fee_per_kb</th>\n      <th>fee_per_kb_usd</th>\n      <th>fee_per_kwu</th>\n      <th>fee_per_kwu_usd</th>\n      <th>cdd_total</th>\n      <th>generation</th>\n      <th>generation_usd</th>\n      <th>reward</th>\n      <th>reward_usd</th>\n      <th>guessed_miner</th>\n    </tr>\n  </thead>\n  <tbody>\n    <tr>\n      <th>0</th>\n      <td>752076</td>\n      <td>000000000000000000080c5d32b46eb0f76b3d73f2e226...</td>\n      <td>2022-09-01 00:00:31</td>\n      <td>2022-08-31 23:18:40</td>\n      <td>1553233</td>\n      <td>813251</td>\n      <td>3992986</td>\n      <td>1073676288</td>\n      <td>3fff0000</td>\n      <td>111111111111110000000000000000</td>\n      <td>...</td>\n      <td>9623.808</td>\n      <td>1.9270</td>\n      <td>3743.86910</td>\n      <td>0.7497</td>\n      <td>10909.170413</td>\n      <td>625000000</td>\n      <td>125143.75</td>\n      <td>639945129</td>\n      <td>128136.2109</td>\n      <td>Foundry USA Pool</td>\n    </tr>\n    <tr>\n      <th>1</th>\n      <td>752077</td>\n      <td>0000000000000000000173411bffe1ac604a132ed1e105...</td>\n      <td>2022-09-01 00:04:05</td>\n      <td>2022-08-31 23:33:18</td>\n      <td>1085256</td>\n      <td>969318</td>\n      <td>3993210</td>\n      <td>545259520</td>\n      <td>20800000</td>\n      <td>100000100000000000000000000000</td>\n      <td>...</td>\n      <td>13023.431</td>\n      <td>2.6076</td>\n      <td>3539.47240</td>\n      <td>0.7086</td>\n      <td>308.317894</td>\n      <td>625000000</td>\n      <td>125143.75</td>\n      <td>639128208</td>\n      <td>127972.6406</td>\n      <td>Unknown</td>\n    </tr>\n    <tr>\n      <th>2</th>\n      <td>752078</td>\n      <td>000000000000000000055a7e7b72fc0c36ce8efe8a5b19...</td>\n      <td>2022-09-01 00:09:10</td>\n      <td>2022-08-31 23:36:53</td>\n      <td>1366347</td>\n      <td>875553</td>\n      <td>3993006</td>\n      <td>1073676288</td>\n      <td>3fff0000</td>\n      <td>111111111111110000000000000000</td>\n      <td>...</td>\n      <td>11504.734</td>\n      <td>2.3036</td>\n      <td>3936.96040</td>\n      <td>0.7883</td>\n      <td>9286.351203</td>\n      <td>625000000</td>\n      <td>125143.75</td>\n      <td>640716008</td>\n      <td>128290.5625</td>\n      <td>Foundry USA Pool</td>\n    </tr>\n    <tr>\n      <th>3</th>\n      <td>752079</td>\n      <td>000000000000000000077cc94bc7f55ddc7ede0c4dc752...</td>\n      <td>2022-09-01 00:34:21</td>\n      <td>2022-08-31 23:43:06</td>\n      <td>1446047</td>\n      <td>849009</td>\n      <td>3993074</td>\n      <td>1073676288</td>\n      <td>3fff0000</td>\n      <td>111111111111110000000000000000</td>\n      <td>...</td>\n      <td>20450.810</td>\n      <td>4.0949</td>\n      <td>7406.52100</td>\n      <td>1.4831</td>\n      <td>59183.394320</td>\n      <td>625000000</td>\n      <td>125143.75</td>\n      <td>654566699</td>\n      <td>131063.8906</td>\n      <td>Foundry USA Pool</td>\n    </tr>\n    <tr>\n      <th>4</th>\n      <td>752080</td>\n      <td>00000000000000000008f5ce64c347e18f321a30dc9a52...</td>\n      <td>2022-09-01 00:36:21</td>\n      <td>2022-08-31 23:47:49</td>\n      <td>1720548</td>\n      <td>757428</td>\n      <td>3992832</td>\n      <td>611926016</td>\n      <td>24794000</td>\n      <td>100100011110010100000000000000</td>\n      <td>...</td>\n      <td>1680.234</td>\n      <td>0.3364</td>\n      <td>724.09705</td>\n      <td>0.1450</td>\n      <td>2679.396640</td>\n      <td>625000000</td>\n      <td>125143.75</td>\n      <td>627890436</td>\n      <td>125722.5000</td>\n      <td>Unknown</td>\n    </tr>\n  </tbody>\n</table>\n<p>5 rows × 36 columns</p>\n</div>"
     },
     "execution_count": 41,
     "metadata": {},
     "output_type": "execute_result"
    }
   ],
   "source": [
    "blocks_df.head()"
   ],
   "metadata": {
    "collapsed": false,
    "ExecuteTime": {
     "start_time": "2023-04-23T11:12:09.475826Z",
     "end_time": "2023-04-23T11:12:09.497179Z"
    }
   }
  },
  {
   "cell_type": "markdown",
   "source": [
    "# Block Time Variance"
   ],
   "metadata": {
    "collapsed": false
   }
  },
  {
   "cell_type": "markdown",
   "source": [
    "## Block Time Calculation"
   ],
   "metadata": {
    "collapsed": false
   }
  },
  {
   "cell_type": "code",
   "execution_count": 51,
   "outputs": [],
   "source": [
    "from datetime import datetime\n",
    "\n",
    "\n",
    "def get_block_times(_blocks_df):\n",
    "    block_times = list()\n",
    "    prev_block_time = 0\n",
    "    for i, block in _blocks_df[\"time\"].iteritems():\n",
    "        block_time = datetime.strptime(block, \"%Y-%m-%d %H:%M:%S\")\n",
    "        if i == 0:\n",
    "            prev_block_time = block_time\n",
    "        else:\n",
    "            curr_block_time = block_time\n",
    "            block_times.append((curr_block_time - prev_block_time).total_seconds() / 60)\n",
    "            prev_block_time = curr_block_time\n",
    "    return block_times"
   ],
   "metadata": {
    "collapsed": false,
    "ExecuteTime": {
     "start_time": "2023-04-23T11:55:52.629790Z",
     "end_time": "2023-04-23T11:55:52.672880Z"
    }
   }
  },
  {
   "cell_type": "code",
   "execution_count": 52,
   "outputs": [
    {
     "data": {
      "text/plain": "98.79263658718499"
     },
     "execution_count": 52,
     "metadata": {},
     "output_type": "execute_result"
    }
   ],
   "source": [
    "import numpy as np\n",
    "\n",
    "all_block_times = get_block_times(blocks_df)\n",
    "\n",
    "np.var(all_block_times)"
   ],
   "metadata": {
    "collapsed": false,
    "ExecuteTime": {
     "start_time": "2023-04-23T11:55:53.003494Z",
     "end_time": "2023-04-23T11:55:53.166393Z"
    }
   }
  },
  {
   "cell_type": "markdown",
   "source": [
    "## Chi-Square Test for Block Time Variance"
   ],
   "metadata": {
    "collapsed": false
   }
  },
  {
   "cell_type": "code",
   "execution_count": 53,
   "outputs": [
    {
     "name": "stdout",
     "output_type": "stream",
     "text": [
      "HO accepted\n"
     ]
    }
   ],
   "source": [
    "from scipy.stats import chi2\n",
    "from cmath import sqrt\n",
    "\n",
    "n = len(all_block_times)\n",
    "t = (n - 1) * pow(sqrt(np.var(all_block_times)) / 10, 2)\n",
    "alpha = 0.05\n",
    "q1 = chi2.ppf(alpha / 2, n - 1)\n",
    "q2 = chi2.ppf(1 - (alpha / 2), n - 1)\n",
    "if t <= q1 or t >= q2:\n",
    "    print(\"HO rejected\")\n",
    "else:\n",
    "    print(\"HO accepted\")"
   ],
   "metadata": {
    "collapsed": false,
    "ExecuteTime": {
     "start_time": "2023-04-23T11:55:53.908478Z",
     "end_time": "2023-04-23T11:55:53.915571Z"
    }
   }
  },
  {
   "cell_type": "markdown",
   "source": [
    "The test is accepted. Our model for block mining is approximately correct."
   ],
   "metadata": {
    "collapsed": false
   }
  },
  {
   "cell_type": "markdown",
   "source": [
    "# Miner Block Time Validation"
   ],
   "metadata": {
    "collapsed": false
   }
  },
  {
   "cell_type": "markdown",
   "source": [
    "# Block Time Calculation"
   ],
   "metadata": {
    "collapsed": false
   }
  },
  {
   "cell_type": "code",
   "execution_count": 54,
   "outputs": [],
   "source": [
    "foundry_usa_block_times = get_block_times(blocks_df[blocks_df[\"guessed_miner\"] == \"Foundry USA Pool\"].reset_index())\n",
    "ant_block_times = get_block_times(blocks_df[blocks_df[\"guessed_miner\"] == \"AntPool\"].reset_index())"
   ],
   "metadata": {
    "collapsed": false,
    "ExecuteTime": {
     "start_time": "2023-04-23T11:55:56.169345Z",
     "end_time": "2023-04-23T11:55:56.301021Z"
    }
   }
  },
  {
   "cell_type": "code",
   "execution_count": null,
   "outputs": [],
   "source": [
    "from statsmodels.stats.diagnostic import lilliefors\n",
    "\n",
    "_, p_value = lilliefors(foundry_usa_block_times, \"exp\")\n",
    "if p_value < alpha:\n",
    "    print(\"HO rejected\")\n",
    "else:\n",
    "    print(\"HO accepted\")"
   ],
   "metadata": {
    "collapsed": false
   }
  },
  {
   "cell_type": "code",
   "execution_count": null,
   "outputs": [],
   "source": [
    "_, p_value = lilliefors(ant_block_times, \"exp\")\n",
    "if p_value < alpha:\n",
    "    print(\"HO rejected\")\n",
    "else:\n",
    "    print(\"HO accepted\")"
   ],
   "metadata": {
    "collapsed": false
   }
  },
  {
   "cell_type": "markdown",
   "source": [
    "The distribution of block time for these pools is indeed exponential."
   ],
   "metadata": {
    "collapsed": false
   }
  }
 ],
 "metadata": {
  "kernelspec": {
   "display_name": "Python 3",
   "language": "python",
   "name": "python3"
  },
  "language_info": {
   "codemirror_mode": {
    "name": "ipython",
    "version": 2
   },
   "file_extension": ".py",
   "mimetype": "text/x-python",
   "name": "python",
   "nbconvert_exporter": "python",
   "pygments_lexer": "ipython2",
   "version": "2.7.6"
  }
 },
 "nbformat": 4,
 "nbformat_minor": 0
}
